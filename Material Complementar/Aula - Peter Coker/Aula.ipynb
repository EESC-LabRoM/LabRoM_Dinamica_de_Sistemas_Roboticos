{
 "cells": [
  {
   "cell_type": "markdown",
   "metadata": {},
   "source": [
    "# Instalação da Robotics Toolbox do Peter Coker"
   ]
  },
  {
   "cell_type": "markdown",
   "metadata": {},
   "source": [
    "## Bibliotecas"
   ]
  },
  {
   "cell_type": "code",
   "execution_count": 1,
   "metadata": {},
   "outputs": [
    {
     "name": "stdout",
     "output_type": "stream",
     "text": [
      "Requirement already satisfied: roboticstoolbox-python in /home/thallys/miniconda3/envs/robotics_env/lib/python3.8/site-packages (1.1.1)\n",
      "Requirement already satisfied: ipywidgets in /home/thallys/miniconda3/envs/robotics_env/lib/python3.8/site-packages (8.1.5)\n",
      "Requirement already satisfied: rich in /home/thallys/miniconda3/envs/robotics_env/lib/python3.8/site-packages (13.8.0)\n",
      "Requirement already satisfied: numpy>=1.17.4 in /home/thallys/miniconda3/envs/robotics_env/lib/python3.8/site-packages (from roboticstoolbox-python) (1.24.4)\n",
      "Requirement already satisfied: spatialmath-python>=1.1.5 in /home/thallys/miniconda3/envs/robotics_env/lib/python3.8/site-packages (from roboticstoolbox-python) (1.1.11)\n",
      "Requirement already satisfied: spatialgeometry>=1.0.0 in /home/thallys/miniconda3/envs/robotics_env/lib/python3.8/site-packages (from roboticstoolbox-python) (1.1.0)\n",
      "Requirement already satisfied: pgraph-python in /home/thallys/miniconda3/envs/robotics_env/lib/python3.8/site-packages (from roboticstoolbox-python) (0.6.2)\n",
      "Requirement already satisfied: scipy in /home/thallys/miniconda3/envs/robotics_env/lib/python3.8/site-packages (from roboticstoolbox-python) (1.10.1)\n",
      "Requirement already satisfied: matplotlib in /home/thallys/miniconda3/envs/robotics_env/lib/python3.8/site-packages (from roboticstoolbox-python) (3.7.3)\n",
      "Requirement already satisfied: ansitable in /home/thallys/miniconda3/envs/robotics_env/lib/python3.8/site-packages (from roboticstoolbox-python) (0.10.0)\n",
      "Requirement already satisfied: swift-sim>=1.0.0 in /home/thallys/miniconda3/envs/robotics_env/lib/python3.8/site-packages (from roboticstoolbox-python) (1.1.0)\n",
      "Requirement already satisfied: rtb-data in /home/thallys/miniconda3/envs/robotics_env/lib/python3.8/site-packages (from roboticstoolbox-python) (1.0.1)\n",
      "Requirement already satisfied: progress in /home/thallys/miniconda3/envs/robotics_env/lib/python3.8/site-packages (from roboticstoolbox-python) (1.6)\n",
      "Requirement already satisfied: typing-extensions in /home/thallys/miniconda3/envs/robotics_env/lib/python3.8/site-packages (from roboticstoolbox-python) (4.12.2)\n",
      "Requirement already satisfied: comm>=0.1.3 in /home/thallys/miniconda3/envs/robotics_env/lib/python3.8/site-packages (from ipywidgets) (0.2.2)\n",
      "Requirement already satisfied: ipython>=6.1.0 in /home/thallys/miniconda3/envs/robotics_env/lib/python3.8/site-packages (from ipywidgets) (8.12.2)\n",
      "Requirement already satisfied: traitlets>=4.3.1 in /home/thallys/miniconda3/envs/robotics_env/lib/python3.8/site-packages (from ipywidgets) (5.14.3)\n",
      "Requirement already satisfied: widgetsnbextension~=4.0.12 in /home/thallys/miniconda3/envs/robotics_env/lib/python3.8/site-packages (from ipywidgets) (4.0.13)\n",
      "Requirement already satisfied: jupyterlab-widgets~=3.0.12 in /home/thallys/miniconda3/envs/robotics_env/lib/python3.8/site-packages (from ipywidgets) (3.0.13)\n",
      "Requirement already satisfied: markdown-it-py>=2.2.0 in /home/thallys/miniconda3/envs/robotics_env/lib/python3.8/site-packages (from rich) (3.0.0)\n",
      "Requirement already satisfied: pygments<3.0.0,>=2.13.0 in /home/thallys/miniconda3/envs/robotics_env/lib/python3.8/site-packages (from rich) (2.18.0)\n",
      "Requirement already satisfied: backcall in /home/thallys/miniconda3/envs/robotics_env/lib/python3.8/site-packages (from ipython>=6.1.0->ipywidgets) (0.2.0)\n",
      "Requirement already satisfied: decorator in /home/thallys/miniconda3/envs/robotics_env/lib/python3.8/site-packages (from ipython>=6.1.0->ipywidgets) (5.1.1)\n",
      "Requirement already satisfied: jedi>=0.16 in /home/thallys/miniconda3/envs/robotics_env/lib/python3.8/site-packages (from ipython>=6.1.0->ipywidgets) (0.19.1)\n",
      "Requirement already satisfied: matplotlib-inline in /home/thallys/miniconda3/envs/robotics_env/lib/python3.8/site-packages (from ipython>=6.1.0->ipywidgets) (0.1.7)\n",
      "Requirement already satisfied: pickleshare in /home/thallys/miniconda3/envs/robotics_env/lib/python3.8/site-packages (from ipython>=6.1.0->ipywidgets) (0.7.5)\n",
      "Requirement already satisfied: prompt-toolkit!=3.0.37,<3.1.0,>=3.0.30 in /home/thallys/miniconda3/envs/robotics_env/lib/python3.8/site-packages (from ipython>=6.1.0->ipywidgets) (3.0.47)\n",
      "Requirement already satisfied: stack-data in /home/thallys/miniconda3/envs/robotics_env/lib/python3.8/site-packages (from ipython>=6.1.0->ipywidgets) (0.6.2)\n",
      "Requirement already satisfied: pexpect>4.3 in /home/thallys/miniconda3/envs/robotics_env/lib/python3.8/site-packages (from ipython>=6.1.0->ipywidgets) (4.9.0)\n",
      "Requirement already satisfied: mdurl~=0.1 in /home/thallys/miniconda3/envs/robotics_env/lib/python3.8/site-packages (from markdown-it-py>=2.2.0->rich) (0.1.2)\n",
      "Requirement already satisfied: pre-commit in /home/thallys/miniconda3/envs/robotics_env/lib/python3.8/site-packages (from spatialmath-python>=1.1.5->roboticstoolbox-python) (3.5.0)\n",
      "Requirement already satisfied: websockets in /home/thallys/miniconda3/envs/robotics_env/lib/python3.8/site-packages (from swift-sim>=1.0.0->roboticstoolbox-python) (13.0.1)\n",
      "Requirement already satisfied: colored in /home/thallys/miniconda3/envs/robotics_env/lib/python3.8/site-packages (from ansitable->roboticstoolbox-python) (1.4.4)\n",
      "Requirement already satisfied: contourpy>=1.0.1 in /home/thallys/miniconda3/envs/robotics_env/lib/python3.8/site-packages (from matplotlib->roboticstoolbox-python) (1.1.1)\n",
      "Requirement already satisfied: cycler>=0.10 in /home/thallys/miniconda3/envs/robotics_env/lib/python3.8/site-packages (from matplotlib->roboticstoolbox-python) (0.12.1)\n",
      "Requirement already satisfied: fonttools>=4.22.0 in /home/thallys/miniconda3/envs/robotics_env/lib/python3.8/site-packages (from matplotlib->roboticstoolbox-python) (4.53.1)\n",
      "Requirement already satisfied: kiwisolver>=1.0.1 in /home/thallys/miniconda3/envs/robotics_env/lib/python3.8/site-packages (from matplotlib->roboticstoolbox-python) (1.4.5)\n",
      "Requirement already satisfied: packaging>=20.0 in /home/thallys/miniconda3/envs/robotics_env/lib/python3.8/site-packages (from matplotlib->roboticstoolbox-python) (24.1)\n",
      "Requirement already satisfied: pillow>=6.2.0 in /home/thallys/miniconda3/envs/robotics_env/lib/python3.8/site-packages (from matplotlib->roboticstoolbox-python) (8.3.2)\n",
      "Requirement already satisfied: pyparsing>=2.3.1 in /home/thallys/miniconda3/envs/robotics_env/lib/python3.8/site-packages (from matplotlib->roboticstoolbox-python) (3.1.4)\n",
      "Requirement already satisfied: python-dateutil>=2.7 in /home/thallys/miniconda3/envs/robotics_env/lib/python3.8/site-packages (from matplotlib->roboticstoolbox-python) (2.9.0)\n",
      "Requirement already satisfied: importlib-resources>=3.2.0 in /home/thallys/miniconda3/envs/robotics_env/lib/python3.8/site-packages (from matplotlib->roboticstoolbox-python) (6.4.4)\n",
      "Requirement already satisfied: zipp>=3.1.0 in /home/thallys/miniconda3/envs/robotics_env/lib/python3.8/site-packages (from importlib-resources>=3.2.0->matplotlib->roboticstoolbox-python) (3.20.1)\n",
      "Requirement already satisfied: parso<0.9.0,>=0.8.3 in /home/thallys/miniconda3/envs/robotics_env/lib/python3.8/site-packages (from jedi>=0.16->ipython>=6.1.0->ipywidgets) (0.8.4)\n",
      "Requirement already satisfied: ptyprocess>=0.5 in /home/thallys/miniconda3/envs/robotics_env/lib/python3.8/site-packages (from pexpect>4.3->ipython>=6.1.0->ipywidgets) (0.7.0)\n",
      "Requirement already satisfied: wcwidth in /home/thallys/miniconda3/envs/robotics_env/lib/python3.8/site-packages (from prompt-toolkit!=3.0.37,<3.1.0,>=3.0.30->ipython>=6.1.0->ipywidgets) (0.2.13)\n",
      "Requirement already satisfied: six>=1.5 in /home/thallys/miniconda3/envs/robotics_env/lib/python3.8/site-packages (from python-dateutil>=2.7->matplotlib->roboticstoolbox-python) (1.16.0)\n",
      "Requirement already satisfied: cfgv>=2.0.0 in /home/thallys/miniconda3/envs/robotics_env/lib/python3.8/site-packages (from pre-commit->spatialmath-python>=1.1.5->roboticstoolbox-python) (3.3.1)\n",
      "Requirement already satisfied: identify>=1.0.0 in /home/thallys/miniconda3/envs/robotics_env/lib/python3.8/site-packages (from pre-commit->spatialmath-python>=1.1.5->roboticstoolbox-python) (2.6.0)\n",
      "Requirement already satisfied: nodeenv>=0.11.1 in /home/thallys/miniconda3/envs/robotics_env/lib/python3.8/site-packages (from pre-commit->spatialmath-python>=1.1.5->roboticstoolbox-python) (1.9.1)\n",
      "Requirement already satisfied: pyyaml>=5.1 in /home/thallys/miniconda3/envs/robotics_env/lib/python3.8/site-packages (from pre-commit->spatialmath-python>=1.1.5->roboticstoolbox-python) (6.0.2)\n",
      "Requirement already satisfied: virtualenv>=20.10.0 in /home/thallys/miniconda3/envs/robotics_env/lib/python3.8/site-packages (from pre-commit->spatialmath-python>=1.1.5->roboticstoolbox-python) (20.26.3)\n",
      "Requirement already satisfied: executing>=1.2.0 in /home/thallys/miniconda3/envs/robotics_env/lib/python3.8/site-packages (from stack-data->ipython>=6.1.0->ipywidgets) (2.1.0)\n",
      "Requirement already satisfied: asttokens>=2.1.0 in /home/thallys/miniconda3/envs/robotics_env/lib/python3.8/site-packages (from stack-data->ipython>=6.1.0->ipywidgets) (2.4.1)\n",
      "Requirement already satisfied: pure-eval in /home/thallys/miniconda3/envs/robotics_env/lib/python3.8/site-packages (from stack-data->ipython>=6.1.0->ipywidgets) (0.2.3)\n",
      "Requirement already satisfied: distlib<1,>=0.3.7 in /home/thallys/miniconda3/envs/robotics_env/lib/python3.8/site-packages (from virtualenv>=20.10.0->pre-commit->spatialmath-python>=1.1.5->roboticstoolbox-python) (0.3.8)\n",
      "Requirement already satisfied: filelock<4,>=3.12.2 in /home/thallys/miniconda3/envs/robotics_env/lib/python3.8/site-packages (from virtualenv>=20.10.0->pre-commit->spatialmath-python>=1.1.5->roboticstoolbox-python) (3.15.4)\n",
      "Requirement already satisfied: platformdirs<5,>=3.9.1 in /home/thallys/miniconda3/envs/robotics_env/lib/python3.8/site-packages (from virtualenv>=20.10.0->pre-commit->spatialmath-python>=1.1.5->roboticstoolbox-python) (4.2.2)\n"
     ]
    }
   ],
   "source": [
    "! pip install roboticstoolbox-python ipywidgets rich"
   ]
  },
  {
   "cell_type": "markdown",
   "metadata": {},
   "source": [
    "## Funcionamento da Robotics ToolBox"
   ]
  },
  {
   "cell_type": "markdown",
   "metadata": {},
   "source": [
    "Conceitos Fundamentais\n",
    "1. Parâmetros de Denavit-Hartenberg (DH)\n",
    "\n",
    "Os parâmetros de Denavit-Hartenberg são uma convenção usada para descrever a geometria de um robô em termos de suas juntas e elos. Para cada elo do robô, utilizamos quatro parâmetros DH:\n",
    "\n",
    "- d: Deslocamento ao longo do eixo 𝑧 (offset).\n",
    "\n",
    "- a: Comprimento do elo ao longo do eixo 𝑥 anterior (link length).\n",
    "\n",
    "- α: Ângulo de torção ao longo do eixo 𝑥 (link twist).\n",
    "\n",
    "- θ: Ângulo de rotação ao redor do eixo 𝑧 (joint angle).\n",
    "\n",
    "Esses parâmetros permitem representar a relação entre cada elo e sua junta de forma padronizada, facilitando o cálculo da posição e orientação do manipulador.\n",
    "\n",
    "No código abaixo, o robô é definido com dois elos, ambos com juntas revolutas. Usamos o modelo de Denavit-Hartenberg para definir cada elo, e a cinemática direta e inversa é calculada com base nesses parâmetros."
   ]
  },
  {
   "cell_type": "markdown",
   "metadata": {},
   "source": [
    "## Exemplo: Puma 560"
   ]
  },
  {
   "cell_type": "markdown",
   "metadata": {},
   "source": [
    "### Importando a toolbox de robótica como uma biblioteca"
   ]
  },
  {
   "cell_type": "code",
   "execution_count": 2,
   "metadata": {},
   "outputs": [],
   "source": [
    "import roboticstoolbox as rtb   \n",
    "from rich.console import Console\n",
    "from rich.text import Text"
   ]
  },
  {
   "cell_type": "markdown",
   "metadata": {},
   "source": [
    "### Carregando um robô exemplo, Puma 560."
   ]
  },
  {
   "cell_type": "code",
   "execution_count": 4,
   "metadata": {},
   "outputs": [
    {
     "name": "stdout",
     "output_type": "stream",
     "text": [
      "DHRobot: Puma 560 (by Unimation), 6 joints (RRRRRR), dynamics, geometry, standard DH parameters\n",
      "┌─────┬────────┬────────┬────────┬─────────┬────────┐\n",
      "│ θⱼ  │   dⱼ   │   aⱼ   │   ⍺ⱼ   │   q⁻    │   q⁺   │\n",
      "├─────┼────────┼────────┼────────┼─────────┼────────┤\n",
      "│  q1 │ 0.6718 │      0 │  90.0° │ -160.0° │ 160.0° │\n",
      "│  q2 │      0 │ 0.4318 │   0.0° │ -110.0° │ 110.0° │\n",
      "│  q3 │   0.15 │ 0.0203 │ -90.0° │ -135.0° │ 135.0° │\n",
      "│  q4 │ 0.4318 │      0 │  90.0° │ -266.0° │ 266.0° │\n",
      "│  q5 │      0 │      0 │ -90.0° │ -100.0° │ 100.0° │\n",
      "│  q6 │      0 │      0 │   0.0° │ -266.0° │ 266.0° │\n",
      "└─────┴────────┴────────┴────────┴─────────┴────────┘\n",
      "\n",
      "┌──┬──┐\n",
      "└──┴──┘\n",
      "\n",
      "┌──────┬─────┬──────┬───────┬─────┬──────┬─────┐\n",
      "│ name │ q0  │ q1   │ q2    │ q3  │ q4   │ q5  │\n",
      "├──────┼─────┼──────┼───────┼─────┼──────┼─────┤\n",
      "│   qr │  0° │  90° │ -90°  │  0° │  0°  │  0° │\n",
      "│   qz │  0° │  0°  │  0°   │  0° │  0°  │  0° │\n",
      "│   qn │  0° │  45° │  180° │  0° │  45° │  0° │\n",
      "│   qs │  0° │  0°  │ -90°  │  0° │  0°  │  0° │\n",
      "└──────┴─────┴──────┴───────┴─────┴──────┴─────┘\n",
      "\n"
     ]
    },
    {
     "data": {
      "text/html": [
       "<pre style=\"white-space:pre;overflow-x:auto;line-height:normal;font-family:Menlo,'DejaVu Sans Mono',consolas,'Courier New',monospace\">DHRobot: Puma 560 (by Unimation), 6 joints (RRRRRR), dynamics, geometry, standard DH parameters\n",
       "┌─────┬────────┬────────┬────────┬─────────┬────────┐\n",
       "│ θⱼ  │   dⱼ   │   aⱼ   │   ⍺ⱼ   │   q⁻    │   q⁺   │\n",
       "├─────┼────────┼────────┼────────┼─────────┼────────┤\n",
       "│  q1 │ 0.6718 │      0 │  90.0° │ -160.0° │ 160.0° │\n",
       "│  q2 │      0 │ 0.4318 │   0.0° │ -110.0° │ 110.0° │\n",
       "│  q3 │   0.15 │ 0.0203 │ -90.0° │ -135.0° │ 135.0° │\n",
       "│  q4 │ 0.4318 │      0 │  90.0° │ -266.0° │ 266.0° │\n",
       "│  q5 │      0 │      0 │ -90.0° │ -100.0° │ 100.0° │\n",
       "│  q6 │      0 │      0 │   0.0° │ -266.0° │ 266.0° │\n",
       "└─────┴────────┴────────┴────────┴─────────┴────────┘\n",
       "\n",
       "┌──┬──┐\n",
       "└──┴──┘\n",
       "\n",
       "┌──────┬─────┬──────┬───────┬─────┬──────┬─────┐\n",
       "│ name │ q0  │ q1   │ q2    │ q3  │ q4   │ q5  │\n",
       "├──────┼─────┼──────┼───────┼─────┼──────┼─────┤\n",
       "│   qr │  0° │  90° │ -90°  │  0° │  0°  │  0° │\n",
       "│   qz │  0° │  0°  │  0°   │  0° │  0°  │  0° │\n",
       "│   qn │  0° │  45° │  180° │  0° │  45° │  0° │\n",
       "│   qs │  0° │  0°  │ -90°  │  0° │  0°  │  0° │\n",
       "└──────┴─────┴──────┴───────┴─────┴──────┴─────┘\n",
       "</pre>\n"
      ],
      "text/plain": [
       "DHRobot: Puma 560 (by Unimation), 6 joints (RRRRRR), dynamics, geometry, standard DH parameters\n",
       "┌─────┬────────┬────────┬────────┬─────────┬────────┐\n",
       "│ θⱼ  │   dⱼ   │   aⱼ   │   ⍺ⱼ   │   q⁻    │   q⁺   │\n",
       "├─────┼────────┼────────┼────────┼─────────┼────────┤\n",
       "│  q1 │ 0.6718 │      0 │  90.0° │ -160.0° │ 160.0° │\n",
       "│  q2 │      0 │ 0.4318 │   0.0° │ -110.0° │ 110.0° │\n",
       "│  q3 │   0.15 │ 0.0203 │ -90.0° │ -135.0° │ 135.0° │\n",
       "│  q4 │ 0.4318 │      0 │  90.0° │ -266.0° │ 266.0° │\n",
       "│  q5 │      0 │      0 │ -90.0° │ -100.0° │ 100.0° │\n",
       "│  q6 │      0 │      0 │   0.0° │ -266.0° │ 266.0° │\n",
       "└─────┴────────┴────────┴────────┴─────────┴────────┘\n",
       "\n",
       "┌──┬──┐\n",
       "└──┴──┘\n",
       "\n",
       "┌──────┬─────┬──────┬───────┬─────┬──────┬─────┐\n",
       "│ name │ q0  │ q1   │ q2    │ q3  │ q4   │ q5  │\n",
       "├──────┼─────┼──────┼───────┼─────┼──────┼─────┤\n",
       "│   qr │  0° │  90° │ -90°  │  0° │  0°  │  0° │\n",
       "│   qz │  0° │  0°  │  0°   │  0° │  0°  │  0° │\n",
       "│   qn │  0° │  45° │  180° │  0° │  45° │  0° │\n",
       "│   qs │  0° │  0°  │ -90°  │  0° │  0°  │  0° │\n",
       "└──────┴─────┴──────┴───────┴─────┴──────┴─────┘\n"
      ]
     },
     "metadata": {},
     "output_type": "display_data"
    }
   ],
   "source": [
    "puma = rtb.models.DH.Puma560()\n",
    "\n",
    "# Create a console object for rich output, adjusted for Jupyter\n",
    "console = Console(force_jupyter=True)\n",
    "\n",
    "# Format the robot information as plain text without ANSI codes\n",
    "formatted_text = Text.from_ansi(str(puma))\n",
    "\n",
    "# Use the rich console to print the DH parameters, forcing plain text in Jupyter\n",
    "console.print(formatted_text)"
   ]
  },
  {
   "cell_type": "markdown",
   "metadata": {},
   "source": [
    "### Posição Inicial"
   ]
  },
  {
   "cell_type": "code",
   "execution_count": 39,
   "metadata": {},
   "outputs": [
    {
     "name": "stdout",
     "output_type": "stream",
     "text": [
      "[ 0.          1.57079633 -1.57079633  0.          0.          0.        ]\n"
     ]
    }
   ],
   "source": [
    "# Directly print the Puma 560 model's DH parameters\n",
    "print(puma.qr)"
   ]
  },
  {
   "cell_type": "markdown",
   "metadata": {},
   "source": [
    "#### Explicação \n",
    "\n",
    "O comando `print(puma.qr)` exibe a **posição de prontidão** (ou posição \"inicial\")  do robô Puma 560, uma configuração específica das articulações chamada também de posição de repouso. Essa posição é frequentemente usada em robótica como ponto de partida ou retorno após a execução de uma tarefa."
   ]
  },
  {
   "cell_type": "markdown",
   "metadata": {},
   "source": [
    "#### Ao executar o comando:\n",
    "\n",
    "```python\n",
    "print(puma.qr)\n",
    "```\n",
    "A saída sera a lista `[ 0. 1.5708 -1.5708 0. 0. 0. ]`, que corresponde aos **ângulos das articulações** (em radianos) para cada uma das seis articulações (ou juntas) do robô Puma 560, quando ele está em sua **posição de prontidão**.\n",
    "\n",
    "Cada valor representa o ângulo de uma articulação específica:\n",
    "\n",
    "- **Articulação 1 (q1)**: `0.0` radianos (0 graus) – A base do robô está alinhada com o quadro de referência global. \n",
    "- **Articulação 2 (q2)**: `+1.5708` radianos (90 graus) – A segunda articulação está rotacionada 90°. \n",
    "- **Articulação 3 (q3)**: `-1.5708` radianos (-90 graus) – A terceira articulação está rotacionada -90°. \n",
    "- **Articulação 4 (q4)**: `0.0` radianos (0 graus) – A quarta articulação está alinhada, sem rotação. \n",
    "- **Articulação 5 (q5)**: `0.0` radianos (0 graus) – A quinta articulação também está alinhada. \n",
    "- **Articulação 6 (q6)**: `0.0` radianos (0 graus) – A sexta e última articulação também está alinhada."
   ]
  },
  {
   "cell_type": "markdown",
   "metadata": {},
   "source": [
    "#### Conversão para Graus\n",
    "\n",
    "Se convertermos esses valores para **graus**, fica assim:\n",
    "\n",
    "- `1.5708` radianos = 90 graus,\n",
    "- `-1.5708` radianos = -90 graus,\n",
    "- Os valores `0.0` radianos correspondem a 0 graus (sem rotação).\n",
    "\n",
    "Assim, a posição de prontidão do robô é:\n",
    "\n",
    "- **Articulação 1**: 0° (sem rotação),\n",
    "- **Articulação 2**: 90° (rotacionada 90°),\n",
    "- **Articulação 3**: -90° (rotacionada -90°),\n",
    "- **Articulação 4**: 0° (sem rotação),\n",
    "- **Articulação 5**: 0° (sem rotação),\n",
    "- **Articulação 6**: 0° (sem rotação)."
   ]
  },
  {
   "cell_type": "markdown",
   "metadata": {},
   "source": [
    "#### Visualizando a Posição de Prontidão    \n",
    "\n",
    "Nessa posição, o robô Puma 560 está **\"pronto\"** para realizar movimentações a partir de uma posição neutra. Isso significa que as articulações 2 e 3 estão rotacionadas para colocar o braço em uma posição perpendicular ao chão, enquanto as outras articulações estão alinhadas sem rotação."
   ]
  },
  {
   "cell_type": "markdown",
   "metadata": {},
   "source": [
    "### Cinemática Direta"
   ]
  },
  {
   "cell_type": "markdown",
   "metadata": {},
   "source": [
    "A **Cinemática Direta (Forward Kinematics)** calcula a posição e a orientação do efetuador final do robô (a extremidade que interage com o ambiente) dado um conjunto de ângulos nas articulações."
   ]
  },
  {
   "cell_type": "code",
   "execution_count": 44,
   "metadata": {},
   "outputs": [
    {
     "name": "stdout",
     "output_type": "stream",
     "text": [
      "Matriz de Transformação Homogênea\n",
      "  \u001b[38;5;1m 0.1217  \u001b[0m \u001b[38;5;1m-0.6067  \u001b[0m \u001b[38;5;1m-0.7856  \u001b[0m \u001b[38;5;4m 0.2478  \u001b[0m  \u001b[0m\n",
      "  \u001b[38;5;1m 0.8184  \u001b[0m \u001b[38;5;1m 0.5092  \u001b[0m \u001b[38;5;1m-0.2665  \u001b[0m \u001b[38;5;4m-0.1259  \u001b[0m  \u001b[0m\n",
      "  \u001b[38;5;1m 0.5617  \u001b[0m \u001b[38;5;1m-0.6105  \u001b[0m \u001b[38;5;1m 0.5584  \u001b[0m \u001b[38;5;4m 1.146   \u001b[0m  \u001b[0m\n",
      "  \u001b[38;5;244m 0       \u001b[0m \u001b[38;5;244m 0       \u001b[0m \u001b[38;5;244m 0       \u001b[0m \u001b[38;5;244m 1       \u001b[0m  \u001b[0m\n",
      "\n"
     ]
    }
   ],
   "source": [
    "q =[0.1, 0.2, 0.3, 0.4, 0.5, 0.6]\n",
    "T = puma.fkine(q)  # Forward Kinematics\n",
    "print(\"Matriz de Transformação Homogênea\")\n",
    "print(T)"
   ]
  },
  {
   "cell_type": "markdown",
   "metadata": {},
   "source": [
    "#### Detalhes\n",
    "\n",
    "- **`puma.fkine([...])`**: Esta função calcula a **matriz de transformação homogênea** \\( T \\), que descreve tanto a **posição** quanto a **orientação** do efetuador final do robô.\n",
    "\n",
    "  - Os valores `[0.1, 0.2, 0.3, 0.4, 0.5, 0.6]` representam os ângulos das articulações do robô em **radianos**.\n",
    "\n",
    "#### Interpretação da Matriz de Transformação Homogênea \\( T \\)\n",
    "\n",
    "A matriz de transformação homogênea \\( T \\) pode ser interpretada da seguinte forma:\n",
    "\n",
    "- **Primeiras três colunas**: Representam a **orientação** do efetuador final nos eixos X, Y e Z.\n",
    "- **Última coluna**: Representa a **posição** do efetuador final no espaço 3D, com as coordenadas \\( (0.2478, -0.1259, 1.146) \\).\n",
    "- **Última linha**: Essa linha faz parte da estrutura homogênea da matriz, onde `[0, 0, 0, 1]` é um padrão fixo.\n",
    "\n",
    "\n",
    "\n"
   ]
  },
  {
   "cell_type": "markdown",
   "metadata": {},
   "source": [
    "### Cinemática Inversa"
   ]
  },
  {
   "cell_type": "markdown",
   "metadata": {},
   "source": [
    "A **cinemática inversa** resolve o problema de encontrar os **ângulos das articulações** que fazem com que o robô atinja uma posição e orientação desejadas. Dado o objetivo **T** (a matriz de transformação homogênea que descreve a posição e orientação do efetuador final), a função retorna os ângulos das articulações correspondentes."
   ]
  },
  {
   "cell_type": "code",
   "execution_count": 45,
   "metadata": {},
   "outputs": [
    {
     "name": "stdout",
     "output_type": "stream",
     "text": [
      "IKSolution: q=[0.1, 0.2, 0.3, 0.4, 0.5, 0.6], success=True, iterations=21, searches=1, residual=3.67e-11\n"
     ]
    }
   ],
   "source": [
    "sol = puma.ikine_LM(T) # Inverse Kinematics\n",
    "print(sol)"
   ]
  },
  {
   "cell_type": "markdown",
   "metadata": {},
   "source": [
    "#### Detalhes:\n",
    "\n",
    "- **`puma.ikine_LM(T)`**: Esta função usa o algoritmo de **Levenberg-Marquardt (LM)** para calcular os ângulos das articulações \\( q \\) necessários para alcançar a posição e orientação definidas pela matriz \\( T \\).\n",
    "  - A matriz \\( T \\) é obtida a partir da **cinemática direta** ou pode ser fornecida como entrada."
   ]
  },
  {
   "cell_type": "markdown",
   "metadata": {},
   "source": [
    "\n",
    "#### Explicação:\n",
    "\n",
    "- **`q`**: Esses são os ângulos calculados para as articulações. Neste caso:\n",
    "  - **Articulação 1**: `0.1` radianos,\n",
    "  - **Articulação 2**: `2.025` radianos,\n",
    "  - **Articulação 3**: `2.936` radianos,\n",
    "  - **Articulação 4**: `-2.894` radianos,\n",
    "  - **Articulação 5**: `-2.273` radianos,\n",
    "  - **Articulação 6**: `-2.025` radianos.\n",
    "  \n",
    "- **`success=True`**: Indica que a solução foi encontrada com sucesso.\n",
    "- **`iterations=14`**: Número de iterações que o algoritmo levou para encontrar a solução.\n",
    "- **`searches=1`**: Número de tentativas feitas pelo algoritmo para encontrar a solução.\n",
    "- **`residual=4.91e-10`**: O erro residual, que é uma medida de quão precisa é a solução. Quanto menor o residual, mais próximo o resultado está do valor exato."
   ]
  },
  {
   "cell_type": "markdown",
   "metadata": {},
   "source": [
    "#### Resumo:\n",
    "\n",
    "A **cinemática inversa** é um processo essencial para encontrar os ângulos das articulações que permitem que o robô atinja uma posição e orientação específicas. No caso do robô Puma 560, o algoritmo **Levenberg-Marquardt** foi capaz de encontrar com sucesso os ângulos das articulações, minimizando o erro residual."
   ]
  },
  {
   "cell_type": "markdown",
   "metadata": {},
   "source": [
    "## Construindo um Robô"
   ]
  },
  {
   "cell_type": "markdown",
   "metadata": {},
   "source": [
    "### 1. Bibliotecas"
   ]
  },
  {
   "cell_type": "code",
   "execution_count": 54,
   "metadata": {},
   "outputs": [],
   "source": [
    "import numpy as np\n",
    "from roboticstoolbox import DHRobot, RevoluteDH, PrismaticDH\n",
    "import matplotlib.pyplot as plt\n",
    "from time import sleep\n"
   ]
  },
  {
   "cell_type": "markdown",
   "metadata": {},
   "source": [
    "### 2. Definição do Robô\n",
    "\n",
    "Agora, vamos definir um robô de dois elos usando os parâmetros de Denavit-Hartenberg. Usaremos a classe `DHRobot` para representar o robô, e a classe `RevoluteDH` para descrever as juntas revolutas."
   ]
  },
  {
   "cell_type": "code",
   "execution_count": 48,
   "metadata": {},
   "outputs": [],
   "source": [
    "# Standard DH parameters for the Puma 560\n",
    "robot = DHRobot([\n",
    "        RevoluteDH(d=0.6718,  a=0,       alpha=np.pi/2),  # Joint 1\n",
    "        RevoluteDH(d=0,       a=0.4318,  alpha=0),        # Joint 2\n",
    "        RevoluteDH(d=0.15005, a=0.0203,  alpha=-np.pi/2), # Joint 3\n",
    "        RevoluteDH(d=0.4318,  a=0,       alpha=np.pi/2),  # Joint 4\n",
    "        RevoluteDH(d=0,       a=0,       alpha=-np.pi/2), # Joint 5\n",
    "        RevoluteDH(d=0,       a=0,       alpha=0)         # Joint 6\n",
    "    ], name='Puma 560') "
   ]
  },
  {
   "cell_type": "code",
   "execution_count": 47,
   "metadata": {},
   "outputs": [
    {
     "data": {
      "text/html": [
       "<pre style=\"white-space:pre;overflow-x:auto;line-height:normal;font-family:Menlo,'DejaVu Sans Mono',consolas,'Courier New',monospace\">DHRobot: Puma 560 (by Unimation), 6 joints (RRRRRR), dynamics, geometry, standard DH parameters\n",
       "┌────┬────────┬────────┬────────┬─────────┬────────┐\n",
       "│θⱼ  │   dⱼ   │   aⱼ   │   ⍺ⱼ   │   q⁻    │   q⁺   │\n",
       "├────┼────────┼────────┼────────┼─────────┼────────┤\n",
       "│ q1 │ 0.6718 │      0 │  90.0° │ -160.0° │ 160.0° │\n",
       "│ q2 │      0 │ 0.4318 │   0.0° │ -110.0° │ 110.0° │\n",
       "│ q3 │   0.15 │ 0.0203 │ -90.0° │ -135.0° │ 135.0° │\n",
       "│ q4 │ 0.4318 │      0 │  90.0° │ -266.0° │ 266.0° │\n",
       "│ q5 │      0 │      0 │ -90.0° │ -100.0° │ 100.0° │\n",
       "│ q6 │      0 │      0 │   0.0° │ -266.0° │ 266.0° │\n",
       "└────┴────────┴────────┴────────┴─────────┴────────┘\n",
       "\n",
       "┌─┬──┐\n",
       "└─┴──┘\n",
       "\n",
       "┌─────┬─────┬──────┬───────┬─────┬──────┬─────┐\n",
       "│name │ q0  │ q1   │ q2    │ q3  │ q4   │ q5  │\n",
       "├─────┼─────┼──────┼───────┼─────┼──────┼─────┤\n",
       "│  qr │  0° │  90° │ -90°  │  0° │  0°  │  0° │\n",
       "│  qz │  0° │  0°  │  0°   │  0° │  0°  │  0° │\n",
       "│  qn │  0° │  45° │  180° │  0° │  45° │  0° │\n",
       "│  qs │  0° │  0°  │ -90°  │  0° │  0°  │  0° │\n",
       "└─────┴─────┴──────┴───────┴─────┴──────┴─────┘\n",
       "</pre>\n"
      ],
      "text/plain": [
       "DHRobot: Puma 560 (by Unimation), 6 joints (RRRRRR), dynamics, geometry, standard DH parameters\n",
       "┌────┬────────┬────────┬────────┬─────────┬────────┐\n",
       "│θⱼ  │   dⱼ   │   aⱼ   │   ⍺ⱼ   │   q⁻    │   q⁺   │\n",
       "├────┼────────┼────────┼────────┼─────────┼────────┤\n",
       "│ q1 │ 0.6718 │      0 │  90.0° │ -160.0° │ 160.0° │\n",
       "│ q2 │      0 │ 0.4318 │   0.0° │ -110.0° │ 110.0° │\n",
       "│ q3 │   0.15 │ 0.0203 │ -90.0° │ -135.0° │ 135.0° │\n",
       "│ q4 │ 0.4318 │      0 │  90.0° │ -266.0° │ 266.0° │\n",
       "│ q5 │      0 │      0 │ -90.0° │ -100.0° │ 100.0° │\n",
       "│ q6 │      0 │      0 │   0.0° │ -266.0° │ 266.0° │\n",
       "└────┴────────┴────────┴────────┴─────────┴────────┘\n",
       "\n",
       "┌─┬──┐\n",
       "└─┴──┘\n",
       "\n",
       "┌─────┬─────┬──────┬───────┬─────┬──────┬─────┐\n",
       "│name │ q0  │ q1   │ q2    │ q3  │ q4   │ q5  │\n",
       "├─────┼─────┼──────┼───────┼─────┼──────┼─────┤\n",
       "│  qr │  0° │  90° │ -90°  │  0° │  0°  │  0° │\n",
       "│  qz │  0° │  0°  │  0°   │  0° │  0°  │  0° │\n",
       "│  qn │  0° │  45° │  180° │  0° │  45° │  0° │\n",
       "│  qs │  0° │  0°  │ -90°  │  0° │  0°  │  0° │\n",
       "└─────┴─────┴──────┴───────┴─────┴──────┴─────┘\n"
      ]
     },
     "metadata": {},
     "output_type": "display_data"
    }
   ],
   "source": [
    "# Create a console object for rich output, adjusted for Jupyter\n",
    "console = Console(force_jupyter=True)\n",
    "\n",
    "# Format the robot information as plain text without ANSI codes\n",
    "formatted_text = Text.from_ansi(str(puma))\n",
    "\n",
    "# Use the rich console to print the DH parameters, forcing plain text in Jupyter\n",
    "console.print(formatted_text)"
   ]
  },
  {
   "cell_type": "markdown",
   "metadata": {},
   "source": [
    "#### 3. Definição dos Ângulos das Juntas\n",
    "\n",
    "Os ângulos das juntas são definidos em radianos. Para este exemplo, configuramos os ângulos iniciais como \\( \\pi/4 \\) e \\( \\pi/6 \\), ou seja, 45 e 30 graus respectivamente.\n"
   ]
  },
  {
   "cell_type": "code",
   "execution_count": 55,
   "metadata": {},
   "outputs": [],
   "source": [
    "# Definição dos ângulos das juntas (radianos)\n",
    "joint_angles = [np.pi/4, np.pi/6, np.pi/4, np.pi/6, np.pi/4, np.pi/6]"
   ]
  },
  {
   "cell_type": "markdown",
   "metadata": {},
   "source": [
    "#### 4. Cálculo da Cinemática Direta\n",
    "\n",
    "A cinemática direta envolve o cálculo da posição e orientação do \"end-effector\" (extremidade do robô) a partir dos ângulos das juntas. Vamos usar o método `fkine()` para calcular a transformação homogênea \\( T \\), que descreve a pose do \"end-effector\".\n"
   ]
  },
  {
   "cell_type": "code",
   "execution_count": 59,
   "metadata": {},
   "outputs": [
    {
     "name": "stdout",
     "output_type": "stream",
     "text": [
      "Cinemática Direta (end-effector pose):\n",
      "\n"
     ]
    },
    {
     "data": {
      "text/html": [
       "<pre style=\"white-space:pre;overflow-x:auto;line-height:normal;font-family:Menlo,'DejaVu Sans Mono',consolas,'Courier New',monospace\">  <span style=\"color: #800000; text-decoration-color: #800000\">-0.8896  </span> <span style=\"color: #800000; text-decoration-color: #800000\">-0.2991  </span> <span style=\"color: #800000; text-decoration-color: #800000\">-0.345   </span> <span style=\"color: #000080; text-decoration-color: #000080\"> 0.07931 </span>  \n",
       "  <span style=\"color: #800000; text-decoration-color: #800000\"> 0.1557  </span> <span style=\"color: #800000; text-decoration-color: #800000\"> 0.5115  </span> <span style=\"color: #800000; text-decoration-color: #800000\">-0.845   </span> <span style=\"color: #000080; text-decoration-color: #000080\">-0.1329  </span>  \n",
       "  <span style=\"color: #800000; text-decoration-color: #800000\"> 0.4293  </span> <span style=\"color: #800000; text-decoration-color: #800000\">-0.8055  </span> <span style=\"color: #800000; text-decoration-color: #800000\">-0.4085  </span> <span style=\"color: #000080; text-decoration-color: #000080\"> 1.019   </span>  \n",
       "  <span style=\"color: #808080; text-decoration-color: #808080\"> 0       </span> <span style=\"color: #808080; text-decoration-color: #808080\"> 0       </span> <span style=\"color: #808080; text-decoration-color: #808080\"> 0       </span> <span style=\"color: #808080; text-decoration-color: #808080\"> 1       </span>  \n",
       "</pre>\n"
      ],
      "text/plain": [
       "  \u001b[31m-0.8896  \u001b[0m \u001b[31m-0.2991  \u001b[0m \u001b[31m-0.345   \u001b[0m \u001b[34m 0.07931 \u001b[0m  \n",
       "  \u001b[31m 0.1557  \u001b[0m \u001b[31m 0.5115  \u001b[0m \u001b[31m-0.845   \u001b[0m \u001b[34m-0.1329  \u001b[0m  \n",
       "  \u001b[31m 0.4293  \u001b[0m \u001b[31m-0.8055  \u001b[0m \u001b[31m-0.4085  \u001b[0m \u001b[34m 1.019   \u001b[0m  \n",
       "  \u001b[38;5;244m 0       \u001b[0m \u001b[38;5;244m 0       \u001b[0m \u001b[38;5;244m 0       \u001b[0m \u001b[38;5;244m 1       \u001b[0m  \n"
      ]
     },
     "metadata": {},
     "output_type": "display_data"
    }
   ],
   "source": [
    "T = robot.fkine(joint_angles)\n",
    "print(\"Cinemática Direta (end-effector pose):\")\n",
    "# Create a console object for rich output, adjusted for Jupyter\n",
    "console = Console(force_jupyter=True)\n",
    "\n",
    "# Format the robot information as plain text without ANSI codes\n",
    "formatted_text = Text.from_ansi(str(T))\n",
    "\n",
    "# Use the rich console to print the DH parameters, forcing plain text in Jupyter\n",
    "console.print(formatted_text)\n"
   ]
  },
  {
   "cell_type": "markdown",
   "metadata": {},
   "source": [
    "#### 5. Cálculo da Cinemática Inversa\n",
    "\n",
    "A cinemática inversa calcula os ângulos das juntas que resultam em uma determinada pose do \"end-effector\". Usamos o método `ikine_LM()`, que aplica o algoritmo de Levenberg-Marquardt para resolver numericamente a cinemática inversa.\n"
   ]
  },
  {
   "cell_type": "code",
   "execution_count": 57,
   "metadata": {},
   "outputs": [
    {
     "name": "stdout",
     "output_type": "stream",
     "text": [
      "Inverse kinematics (joint angles):\n",
      " [0.29076099 2.61797989 2.45015037 1.82339591 2.31749375 2.54604885]\n"
     ]
    }
   ],
   "source": [
    "# Cálculo da cinemática inversa usando o método Levenberg-Marquardt\n",
    "solution = robot.ikine_LM(T)\n",
    "print(\"Inverse kinematics (joint angles):\\n\", solution.q)"
   ]
  },
  {
   "cell_type": "markdown",
   "metadata": {},
   "source": [
    "#### 6. Visualização do Robô\n",
    "\n",
    "Vamos visualizar o robô na configuração definida pelos ângulos das juntas. Para isso, usamos o método `plot()`, que gera um gráfico 3D do robô em sua configuração atual.\n"
   ]
  },
  {
   "cell_type": "code",
   "execution_count": 7,
   "metadata": {},
   "outputs": [
    {
     "data": {
      "image/png": "[encoded data removed]",
      "text/plain": [
       "<Figure size 640x480 with 1 Axes>"
      ]
     },
     "metadata": {},
     "output_type": "display_data"
    },
    {
     "data": {
      "text/plain": [
       "<Figure size 640x480 with 0 Axes>"
      ]
     },
     "metadata": {},
     "output_type": "display_data"
    }
   ],
   "source": [
    "# Visualização do robô\n",
    "robot.plot(joint_angles)\n",
    "plt.show()"
   ]
  },
  {
   "cell_type": "markdown",
   "metadata": {},
   "source": [
    "### Conclusão\n",
    "\n",
    "Neste notebook, exploramos o uso dos parâmetros de Denavit-Hartenberg para modelar um robô simples com duas juntas revolutas. Usamos a cinemática direta para calcular a posição do \"end-effector\" a partir de ângulos das juntas e a cinemática inversa para determinar os ângulos necessários para alcançar uma posição desejada.\n",
    "\n",
    "A visualização gráfica e o modo interativo também foram ferramentas importantes para entender como o robô se comporta em diferentes configurações de juntas.\n"
   ]
  }
 ],
 "metadata": {
  "kernelspec": {
   "display_name": "robotics_env",
   "language": "python",
   "name": "python3"
  },
  "language_info": {
   "codemirror_mode": {
    "name": "ipython",
    "version": 3
   },
   "file_extension": ".py",
   "mimetype": "text/x-python",
   "name": "python",
   "nbconvert_exporter": "python",
   "pygments_lexer": "ipython3",
   "version": "3.8.19"
  }
 },
 "nbformat": 4,
 "nbformat_minor": 2
}
